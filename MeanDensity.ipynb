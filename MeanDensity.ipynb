{
 "cells": [
  {
   "cell_type": "code",
   "execution_count": 1,
   "metadata": {},
   "outputs": [],
   "source": [
    "import matplotlib.pyplot as plt\n",
    "import numpy as np\n",
    "import sys\n",
    "sys.path.append('/home/mehdi/github/LSSutils')\n",
    "from LSSutils.catalogs.datarelease import cols_dr8_ccdts, fixlabels\n",
    "import matplotlib.backends.backend_pdf"
   ]
  },
  {
   "cell_type": "code",
   "execution_count": 2,
   "metadata": {},
   "outputs": [],
   "source": [
    "plt.rc('font', family='serif', size=14)"
   ]
  },
  {
   "cell_type": "code",
   "execution_count": 3,
   "metadata": {},
   "outputs": [],
   "source": [
    "nnbar = lambda s,r,t,m:f'/home/mehdi/data/formehdi/0.4/clustering/nnbar_{s}_{r}_{t}_{m}.npy'"
   ]
  },
  {
   "cell_type": "code",
   "execution_count": 4,
   "metadata": {},
   "outputs": [],
   "source": [
    "columns = fixlabels(cols_dr8_ccdts, addunit=True)"
   ]
  },
  {
   "cell_type": "code",
   "execution_count": null,
   "metadata": {},
   "outputs": [],
   "source": [
    "pdfname = 'nnbar_desi_eboss_0.4.pdf'\n",
    "surveys = ['desi', 'eboss']\n",
    "regions = ['decaln', 'decals', 'bmzls']\n",
    "templates = ['ccd', 'ts']\n",
    "\n",
    "models = ['uni', 'lin', 'quad', 'nn', 'nn-ab']\n",
    "\n",
    "colors = {'uni':'k',\n",
    "          'lin':'k',\n",
    "          'quad':'k',\n",
    "          'nn':'r',\n",
    "          'nn-ab':'b'}\n",
    "\n",
    "linestyles = {'uni':'-',\n",
    "              'lin':'--',\n",
    "              'quad':'-.',\n",
    "              'nn':'-',\n",
    "              'nn-ab':'-'}\n",
    "\n",
    "labels = {'uni':'No Correction',\n",
    "          'lin':'Linear',\n",
    "          'quad':'Quadratic',\n",
    "          'nn':'NN',\n",
    "          'nn-ab':'NN+FS'}\n",
    "\n",
    "def addnnbar(nnbar_list, ax, adderror=False, **kwargs):\n",
    "    \n",
    "    for i, nnbar_i in enumerate(nnbar_list):\n",
    "        \n",
    "        if adderror:\n",
    "            ax[i].errorbar(nnbar_i['bin_avg'],\n",
    "                           nnbar_i['nnbar'],\n",
    "                           yerr=nnbar_i['nnbar_err'], **kwargs)\n",
    "        else:\n",
    "            ax[i].plot(nnbar_i['bin_avg'],\n",
    "                       nnbar_i['nnbar'], **kwargs)\n",
    "\n",
    "            \n",
    "pdf = matplotlib.backends.backend_pdf.PdfPages(pdfname)  \n",
    "\n",
    "pdf_i = 0\n",
    "\n",
    "for i, sur in enumerate(surveys):\n",
    "    print(f'working on {sur}')\n",
    "    \n",
    "    for j, reg in enumerate(regions):\n",
    "        print(f'working on {reg}')\n",
    "        for k, temp in enumerate(templates):\n",
    "\n",
    "            # --- set up the plot\n",
    "            fig, ax = plt.subplots(ncols=3, nrows=10, figsize=(18, 40),\n",
    "                                  sharey=True)\n",
    "            fig.subplots_adjust(hspace=0.4, wspace=0.1)\n",
    "            ax = ax.flatten()\n",
    "\n",
    "            # plot mean density vs systematics\n",
    "            for m, mod in enumerate(models):\n",
    "                nnbar_m = np.load(nnbar(sur, reg, temp, mod), allow_pickle=True)\n",
    "                \n",
    "                adderror = True if mod=='uni' else False\n",
    "                \n",
    "                addnnbar(nnbar_m, ax, adderror=adderror, color=colors[mod],\n",
    "                        ls=linestyles[mod], label=labels[mod])\n",
    "\n",
    "            #--- cosmetics    \n",
    "            # add x-axes labels\n",
    "            for m, xlabel in enumerate(columns):\n",
    "                ax[m].set_ylim(0.9, 1.1)\n",
    "                ax[m].set_xlabel(xlabel)\n",
    "                ax[m].grid(True, ls=':', color='grey')\n",
    "                ax[m].locator_params(tight=True, nbins=5)\n",
    "                \n",
    "                if m%3==0:ax[m].set_ylabel(r'$N/\\overline{N}$')\n",
    "                \n",
    "            # legend    \n",
    "            title = ' '.join([sur, reg, temp])\n",
    "            title = title.upper()\n",
    "            \n",
    "            ax[0].legend(ncol=3,frameon=False,\n",
    "                        bbox_to_anchor=(0, 1.1, 3, 0.4), loc=\"lower left\",\n",
    "                        mode=\"expand\", borderaxespad=0,\n",
    "                        title=title)\n",
    "                \n",
    "            fig.delaxes(ax[-1])    \n",
    "            pdf.savefig((pdf_i+1), bbox_inches='tight')\n",
    "            pdf_i += 1\n",
    "            \n",
    "pdf.close()      \n",
    "print('done!')\n",
    "#plt.show()"
   ]
  }
 ],
 "metadata": {
  "kernelspec": {
   "display_name": "python (py3p6)",
   "language": "python",
   "name": "py3p6"
  },
  "language_info": {
   "codemirror_mode": {
    "name": "ipython",
    "version": 3
   },
   "file_extension": ".py",
   "mimetype": "text/x-python",
   "name": "python",
   "nbconvert_exporter": "python",
   "pygments_lexer": "ipython3",
   "version": "3.7.4"
  }
 },
 "nbformat": 4,
 "nbformat_minor": 2
}
